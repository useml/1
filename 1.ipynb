import csv

a = []

with open("ENJOYSPORT.csv",'r') as fi:
  for row in csv.reader(fi):
    a.append(row)

numatt = len(a[0]) - 1
print(numatt)
hypo = ['0'] * numatt

print("Inital hypo ",hypo)

for i in range(0,len(a)):
  if a[i][numatt] == 'yes':
    for j in range(0,numatt):
      if hypo[j] == a[i][j] or hypo[j] == '0':
        hypo[j] = a[i][j]
      else:
        hypo[j] = '?'
  print("Hypo thesis", hypo)

print("final hypo ",hypo)
